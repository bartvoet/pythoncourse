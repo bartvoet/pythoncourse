<h2 id="variabelen">Variabelen</h2>
<p>Nu dat we eenmaal weten hoe te printen (en functies aan te roepen) introduceren we <strong>variabelen</strong> en <strong>assignment-statements</strong>.</p>
<h3 id="voorbeeld-van-gebruik-variabele">Voorbeeld van gebruik variabele</h3>
<p>We schrijven de volgende <strong>voorbeeldcode</strong> om het <strong>gebruik van variabelen</strong> te illustreren:</p>
<div class="sourceCode"><pre class="sourceCode python"><code class="sourceCode python">say_hello <span class="op">=</span> <span class="st">&quot;hello&quot;</span>
<span class="bu">print</span>(say_hello)
<span class="bu">print</span>(say_hello)</code></pre></div>
<p>Als je deze code uitvoert zal deze <strong>2 maal na elkaar hello printen</strong> naar de console</p>
<pre><code>hello
hello</code></pre>
<p>Er zijn hier 2 nieuwe elementen:</p>
<ul>
<li>Een <strong>variabele</strong> met de <strong>naam say_hello</strong></li>
<li>Een <strong>assignment-statement</strong> dat wordt gebruikt om de variabele say_hello de waarde &quot;hello&quot; toe te kennen (assign)</li>
</ul>
<p>Door het gebruik van een <strong>variabele</strong> kan je dus een <strong>waarde</strong> in het geheugen steken en deze <strong>hergebruiken</strong> in latere <strong>statements</strong>.</p>
<h3 id="variabele-is-een-stuk-geheugen">Variabele is een stuk geheugen</h3>
<p>Een <strong>variabele</strong> is dus:</p>
<ul>
<li>Een stuk <strong>geheugen</strong> dat je kan hergebruiken</li>
<li>Dat een <strong>waarde</strong> kan bevatten</li>
<li>Waaraan een <strong>naam</strong> is gelinkt<br />
(of ook wel <strong>symbool</strong> genoemd)</li>
</ul>
<h3 id="doel-van-een-variabele">Doel van een variabele</h3>
<p>De <strong>essentie</strong>/<strong>doel</strong> van zo'n <strong>variabele</strong> is</p>
<ul>
<li>het <strong>hergebruiken of delen van data</strong></li>
<li>tussen verschillende <strong>statements</strong></li>
<li>binnen een <strong>sequentiële uitvoering</strong>.</li>
</ul>
<pre><code>                        +------------------+
     +------write-------+ Statement 1:     |
     |                  | assignement      |
     |                  +-------+----------+           +------------------------+
     |                          |                      |      CONSOLE/OUTPUT    |
+----v-----+                    |                      | +--------------------+ |
| say_hello|            +-------v----------+           | |                    | |
+----------+            | Statement 2:     +---print---&gt; | &gt; hello            | |
| hello    +---read-----&gt; function-call    |           | |                    | |
+----+-----+            +-------+----------+           | |                    | |
     |                          |                      | |                    | |
     |                          |                      | |                    | |
     |                  +-------v----------+           | |                    | |
     |                  | Statement 3:     +---print---&gt; | &gt; hello            | |
     +---------read-----&gt; function-call    |           | +--------------------+ |
                        +------------------+           +------------------------+</code></pre>
<h3 id="assignment-statement">Assignment-statement</h3>
<p>Om met variabelen te kunnen werken gebruiken we een <strong>nieuw soort statement</strong> (of <strong>commando</strong>), namelijk het <strong>assignment-statement</strong>.<br />
Zo'n statement kent (of <strong>&quot;assigns&quot;</strong>) een <strong>waarde</strong> (<strong>value</strong>) toe aan een <strong>naam</strong>.<br />
Deze waarde kan je dan hergebruiken in latere <strong>statements</strong> (de function-calls die de waarde 2 maal afdrukken).</p>
<h3 id="vorm-assignment-statment">Vorm assignment-statment</h3>
<p>Zo'n assignment-statement heeft altijd de vorm van :</p>
<pre><code>&lt;naam_variabele&gt; = &lt;waarde&gt;</code></pre>
<ul>
<li>Aan de <strong>linkerkant</strong> zet je de <strong>naam of symbool</strong> van de <strong>variabele</strong></li>
<li>In het midden zet je de <strong>assignment-operator</strong>, in python is dit het symbool <strong>=</strong></li>
<li>Aan de <strong>rechterkant</strong> zet je de waarde</li>
</ul>
<h3 id="waarde-van-een-variabele-kan-je-wijzigen">Waarde van een variabele kan je wijzigen</h3>
<p>Een variabele zou het niet &quot;variabel&quot; zijn als je deze niet kan wijzigen, we beschouwen het volgende voorbeeld:</p>
<div class="sourceCode"><pre class="sourceCode python"><code class="sourceCode python">say_hello <span class="op">=</span> <span class="st">&quot;hello&quot;</span>
<span class="bu">print</span>(say_hello)
say_hello <span class="op">=</span> <span class="st">&quot;world&quot;</span>
<span class="bu">print</span>(say_hello)</code></pre></div>
<p>Je kan later <strong>in het zelfde programma of sequentie</strong> variabelen van <strong>waarde wijzigen</strong> (zo veel als je wilt) via deze <strong>assignment-statements</strong>.</p>
<pre><code>                        +------------------+
     +------write-------+ Statement 1:     |
     |                  | assignement      |
     |                  +-------+----------+           +------------------------+
     |                          |                      |      CONSOLE/OUTPUT    |
+----v-----+                    |                      | +--------------------+ |
| say_hello|            +-------v----------+           | |                    | |
+----------+            | Statement 2:     +--print----&gt; | &gt; hello            | |
| hello    +---read-----&gt; function+call    |           | |                    | |
+----------+            +-------+----------+           | |                    | |
                                |                      | |                    | |
                                |                      | |                    | |
                        +-------v----------+           | |                    | |
     +------write-------+ Statement 3:     |           | |                    | |
     |                  | assignment       |           | |                    | |
     |                  +-------+----------+           | |                    | |
     |                          |                      | |                    | |
+----v-----+                    |                      | |                    | |
| say_hello|            +-------v----------+           | |                    | |
+----------+            | Statement 2:     +--print----&gt; | &gt; world            | |
| world    +---read-----&gt; function+call    |           | +--------------------+ |
+----------+            +------------------+           +------------------------+

</code></pre>
<h3 id="een-variabele-heeft-een-type">Een variabele heeft een type</h3>
<p>Een variabele heeft dus een naam, aan de hand van deze naam kan je vanuit je code de waarde uitlezen en wijzigen.<br />
Daarnaast heeft een <strong>variabele</strong> ook van een bepaald <strong>type</strong>.</p>
<pre><code>+---------------------+           +---------------------+
| Variabele           |           | Type                |
+---------------------+           +---------------------+
|  Naam               |           |  Operaties          |
|  Waarde             +-----------&gt;  Grootte            |
|                     |           |  Beperkingen        |
|                     |           |  ...                |
+---------------------+           +---------------------+</code></pre>
<p>Dit type bepaalt wat je met de waarde (een hoop bytes...) kan doen.<br />
Python ondersteunt verschillende types, tot nog toe hebben we gebruik gemaakt van het type <strong>String</strong>.</p>
<p>In onderstaand stuk code maken we 3 variabelen aan van verschillende types.<br />
De functie type zorgt er voor dat we het type van de variabele kunnen opvragen.</p>
<div class="sourceCode"><pre class="sourceCode python"><code class="sourceCode python">a <span class="op">=</span> <span class="st">&quot;hello&quot;</span>
b <span class="op">=</span> <span class="dv">10</span>
c <span class="op">=</span> <span class="fl">0.5</span>
<span class="bu">print</span>(<span class="bu">type</span>(a))
<span class="bu">print</span>(<span class="bu">type</span>(b))
<span class="bu">print</span>(<span class="bu">type</span>(c))</code></pre></div>
<p>Python leidt direct het type af bij creatie van de variabele (principe wordt soms ook <strong>type inference</strong> genoemd).<br />
In dit geval kan de python-interpreter vanuit de <strong>literal</strong> afleiden tot <strong>welk type</strong> deze variabele is:</p>
<ul>
<li>&quot;hello&quot; is omgeven door quotes</li>
<li>10 is niet omgeven door quotes en bestaat enkel uit cijfers</li>
<li>0.5 is een getal met een decimaal punt (komma-getal)</li>
</ul>
<p>Als we dan bovenstaand programma uitvoeren</p>
<pre><code>&lt;class &#39;str&#39;&gt;
&lt;class &#39;int&#39;&gt;
&lt;class &#39;float&#39;&gt;</code></pre>
<p>Het eerste type hier is <strong>string</strong> dat we een aantal keren hebben gebruikt.</p>
<h3 id="numerieke-types">Numerieke types</h3>
<p>De 2 andere - int en float - zijn <strong>numerieke types</strong> die je kan gebruiken voor berekeningen uit te voeren.</p>
<h3 id="integers">Integers</h3>
<p><strong>Integers</strong> kennen we als de groep van <strong>natuurlijke getallen</strong> zoals bijvoorbeeld.</p>
<pre><code>—1
–3
42
355
888888888888888
–7777777777</code></pre>
<p>In <strong>Python 3</strong> is er feitelijk <strong>geen limiet</strong> aan hoe lang een <strong>geheel getal</strong> kan zijn.<br />
Natuurlijk wordt het <strong>beperkt</strong> door de <strong>hoeveelheid geheugen</strong> die je <strong>systeem</strong> heeft, zoals alle dingen.</p>
<p>Maar verder kan een geheel getal zo lang zijn als je nodig hebt zoals hieronder</p>
<div class="sourceCode"><pre class="sourceCode python"><code class="sourceCode python">a <span class="op">=</span> <span class="dv">154646546465465465465465465464</span>
<span class="bu">print</span>(a)</code></pre></div>
<p>uitgevoerd wordt dit</p>
<pre><code>154646546465465465465465465464</code></pre>
<p>vanzelfsprekend kan je hier ook berekeningen meet doen, hier komen we zodra nog op terug:</p>
<div class="sourceCode"><pre class="sourceCode python"><code class="sourceCode python">a <span class="op">=</span> <span class="dv">3</span>
b <span class="op">=</span> <span class="dv">4</span>
c <span class="op">=</span> a <span class="op">+</span> b
<span class="bu">print</span>(c) <span class="co">#prints 7</span></code></pre></div>
<p>Naast het decimale stelsel is er ook support om deze getallen te binair, octaal of hexadecimaal te noteren.<br />
Dit doe je door dit getal te typen startende met 0 respectievelijk gevolgd door</p>
<ul>
<li><strong>o</strong> of O voor <strong>octaal</strong></li>
<li><strong>x</strong> of X voor <strong>hexadecimaal</strong></li>
<li><strong>b</strong> of B voor <strong>binair</strong></li>
</ul>
<p>zoals geïllustreerd in onderstaand voorbeeld</p>
<pre><code>print(0o10) # prints 8 (octal notation)
print(0x10) # prints 16 (hexadecimal notation)
print(0b1110) # prints 14444 (binary notation)</code></pre>
<h3 id="floats">Floats</h3>
<p>Python gebruikt ook floating-type types.<br />
Dit wordt gebruikt voor kommagetallen, dus waar je precisie nodig hebt na de komma</p>
<pre><code>a = -3.0
b = 24.75
print(a)
print(b)</code></pre>
